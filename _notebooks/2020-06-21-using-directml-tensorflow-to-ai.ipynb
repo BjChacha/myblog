{
 "cells": [
  {
   "cell_type": "markdown",
   "metadata": {},
   "source": [
    "# 使用DirectML进行GPU模型训练\n",
    "> 我的RX480又可以跑模型了\n",
    "\n",
    "- toc: false\n",
    "- badges: true\n",
    "- comments: true\n",
    "- hide: true\n",
    "- categories: [ai]"
   ]
  },
  {
   "cell_type": "markdown",
   "metadata": {},
   "source": [
    "## 关于[DirectML](https://github.com/microsoft/DirectML)\n",
    "详情看README。主要是支持所有“支持DX12的显卡”进行硬件加速运算。这对于手上只有A卡的我无疑又是个好东西。  \n",
    "\n",
    "先前已经写过一篇关于[PlaidML](_notebooks\\2020-02-25-using-plaidml-keras-to-ai.ipynb)的博文，也是可用A卡硬件加速。所以这里省略部分步骤，并最后跟PlaidML比较下效果。"
   ]
  },
  {
   "cell_type": "markdown",
   "metadata": {},
   "source": [
    "## 安装DirectML\n",
    "目前[ensorflow with DirectML](https://docs.microsoft.com/zh-cn/windows/win32/direct3d12/gpu-tensorflow-windows)仅支持最新版本的Windows 10和WSL。  \n",
    "\n",
    "安装非常简单，直接`pip`一下就好。这里例行使用`conda`创建虚拟环境来运行DirectML。\n",
    "\n",
    "> conda create -n directml python-3.7  \n",
    "> conda activate directml  \n",
    "> pip install https://github.com/microsoft/DirectML/releases/download/tensorflow-directml-1.15.3.dev200615/tensorflow_directml-1.15.3.dev200615-cp37-cp37m-win_amd64.whl  \n",
    "\n",
    "> Note: DirectML支持Python 3.5 to 3.7，根据使用Python的版本来更改上面地址中的cp37。  \n",
    "> Note: 另外DirectML只支持Tensorflow 1.15.\n",
    "\n",
    "安装完成后来测试一下能否启用我的A卡。\n"
   ]
  },
  {
   "cell_type": "code",
   "execution_count": 1,
   "metadata": {},
   "outputs": [],
   "source": [
    "# test code code"
   ]
  },
  {
   "cell_type": "markdown",
   "metadata": {},
   "source": [
    "## 使用DirectML训练Fashion-MNIST分类器\n",
    "跑跟之前试用PlaidML时一样的代码。"
   ]
  },
  {
   "cell_type": "code",
   "execution_count": 2,
   "metadata": {},
   "outputs": [],
   "source": [
    "# here training code"
   ]
  },
  {
   "cell_type": "markdown",
   "metadata": {},
   "source": [
    "上面可以看到DirectML可以正常使用A卡进行训练，训练时长为？秒，而PlaidML跑了124秒。  \n",
    "虽说DirectML比PLaidML慢，但胜在支持所有DX12的显卡以及完整的Tensorflow（PlaidML只支持Keras）。"
   ]
  }
 ],
 "metadata": {
  "language_info": {
   "name": "python",
   "codemirror_mode": {
    "name": "ipython",
    "version": 3
   },
   "version": "3.7.4-final"
  },
  "orig_nbformat": 2,
  "file_extension": ".py",
  "mimetype": "text/x-python",
  "name": "python",
  "npconvert_exporter": "python",
  "pygments_lexer": "ipython3",
  "version": 3,
  "kernelspec": {
   "name": "python3",
   "display_name": "Python 3"
  }
 },
 "nbformat": 4,
 "nbformat_minor": 2
}